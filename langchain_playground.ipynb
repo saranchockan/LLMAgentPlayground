{
 "cells": [
  {
   "cell_type": "code",
   "execution_count": 14,
   "metadata": {},
   "outputs": [],
   "source": [
    "from langchain_openai import ChatOpenAI\n",
    "from dotenv import load_dotenv\n",
    "\n",
    "# Load OPENAI_API_KEY from env\n",
    "load_dotenv()\n",
    "\n",
    "llm = ChatOpenAI()"
   ]
  },
  {
   "cell_type": "code",
   "execution_count": 15,
   "metadata": {},
   "outputs": [
    {
     "data": {
      "text/plain": [
       "AIMessage(content=\"Langsmith can help with testing in several ways, including:\\n\\n1. Test automation: Langsmith can automate the testing process, making it faster and more efficient. It can generate and execute test scripts, analyze test results, and identify any issues or bugs in the software.\\n\\n2. Test data generation: Langsmith can generate realistic test data to simulate different scenarios and edge cases, helping to uncover potential issues in the software.\\n\\n3. Test case management: Langsmith can manage test cases, track test coverage, and ensure that all requirements are tested thoroughly.\\n\\n4. Integration testing: Langsmith can help with integration testing by simulating interactions between different components or systems and verifying that they work correctly together.\\n\\n5. Performance testing: Langsmith can help with performance testing by simulating a high volume of users or transactions to evaluate the software's speed, scalability, and reliability under different load conditions.\\n\\nOverall, Langsmith can streamline the testing process, increase test coverage, and improve the quality of the software by identifying and fixing any issues early in the development cycle.\", response_metadata={'token_usage': {'completion_tokens': 210, 'prompt_tokens': 15, 'total_tokens': 225}, 'model_name': 'gpt-3.5-turbo', 'system_fingerprint': 'fp_b28b39ffa8', 'finish_reason': 'stop', 'logprobs': None}, id='run-c4a133f5-e08e-45c1-a2f3-01c634f044ea-0')"
      ]
     },
     "execution_count": 15,
     "metadata": {},
     "output_type": "execute_result"
    }
   ],
   "source": [
    "llm.invoke(\"How can langsmith help with testing?\")"
   ]
  },
  {
   "cell_type": "code",
   "execution_count": null,
   "metadata": {},
   "outputs": [],
   "source": []
  }
 ],
 "metadata": {
  "kernelspec": {
   "display_name": "Python 3",
   "language": "python",
   "name": "python3"
  },
  "language_info": {
   "codemirror_mode": {
    "name": "ipython",
    "version": 3
   },
   "file_extension": ".py",
   "mimetype": "text/x-python",
   "name": "python",
   "nbconvert_exporter": "python",
   "pygments_lexer": "ipython3",
   "version": "3.9.6"
  }
 },
 "nbformat": 4,
 "nbformat_minor": 2
}
